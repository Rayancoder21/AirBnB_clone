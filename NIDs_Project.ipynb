{
  "nbformat": 4,
  "nbformat_minor": 0,
  "metadata": {
    "colab": {
      "provenance": [],
      "gpuType": "T4",
      "authorship_tag": "ABX9TyOYzkI+OIHZyc1KflcUM3fQ",
      "include_colab_link": true
    },
    "kernelspec": {
      "name": "python3",
      "display_name": "Python 3"
    },
    "language_info": {
      "name": "python"
    },
    "accelerator": "GPU"
  },
  "cells": [
    {
      "cell_type": "markdown",
      "metadata": {
        "id": "view-in-github",
        "colab_type": "text"
      },
      "source": [
        "<a href=\"https://colab.research.google.com/github/Rayancoder21/AirBnB_clone/blob/master/NIDs_Project.ipynb\" target=\"_parent\"><img src=\"https://colab.research.google.com/assets/colab-badge.svg\" alt=\"Open In Colab\"/></a>"
      ]
    },
    {
      "cell_type": "markdown",
      "source": [
        "**Install Necessary Libraries**"
      ],
      "metadata": {
        "id": "g4xbZknS_AzJ"
      }
    },
    {
      "cell_type": "markdown",
      "source": [],
      "metadata": {
        "id": "ov9PSJnlQXXh"
      }
    },
    {
      "cell_type": "code",
      "execution_count": null,
      "metadata": {
        "colab": {
          "base_uri": "https://localhost:8080/"
        },
        "id": "0bAKfCa0hTy0",
        "outputId": "05ad25d9-4a08-4cf1-c24e-cdb3cbcff7e5"
      },
      "outputs": [
        {
          "output_type": "stream",
          "name": "stdout",
          "text": [
            "Requirement already satisfied: pandas in /usr/local/lib/python3.10/dist-packages (2.2.2)\n",
            "Requirement already satisfied: numpy in /usr/local/lib/python3.10/dist-packages (1.26.4)\n",
            "Requirement already satisfied: scikit-learn in /usr/local/lib/python3.10/dist-packages (1.5.2)\n",
            "Requirement already satisfied: tensorflow in /usr/local/lib/python3.10/dist-packages (2.17.0)\n",
            "Requirement already satisfied: keras in /usr/local/lib/python3.10/dist-packages (3.4.1)\n",
            "Requirement already satisfied: python-dateutil>=2.8.2 in /usr/local/lib/python3.10/dist-packages (from pandas) (2.8.2)\n",
            "Requirement already satisfied: pytz>=2020.1 in /usr/local/lib/python3.10/dist-packages (from pandas) (2024.2)\n",
            "Requirement already satisfied: tzdata>=2022.7 in /usr/local/lib/python3.10/dist-packages (from pandas) (2024.2)\n",
            "Requirement already satisfied: scipy>=1.6.0 in /usr/local/lib/python3.10/dist-packages (from scikit-learn) (1.13.1)\n",
            "Requirement already satisfied: joblib>=1.2.0 in /usr/local/lib/python3.10/dist-packages (from scikit-learn) (1.4.2)\n",
            "Requirement already satisfied: threadpoolctl>=3.1.0 in /usr/local/lib/python3.10/dist-packages (from scikit-learn) (3.5.0)\n",
            "Requirement already satisfied: absl-py>=1.0.0 in /usr/local/lib/python3.10/dist-packages (from tensorflow) (1.4.0)\n",
            "Requirement already satisfied: astunparse>=1.6.0 in /usr/local/lib/python3.10/dist-packages (from tensorflow) (1.6.3)\n",
            "Requirement already satisfied: flatbuffers>=24.3.25 in /usr/local/lib/python3.10/dist-packages (from tensorflow) (24.3.25)\n",
            "Requirement already satisfied: gast!=0.5.0,!=0.5.1,!=0.5.2,>=0.2.1 in /usr/local/lib/python3.10/dist-packages (from tensorflow) (0.6.0)\n",
            "Requirement already satisfied: google-pasta>=0.1.1 in /usr/local/lib/python3.10/dist-packages (from tensorflow) (0.2.0)\n",
            "Requirement already satisfied: h5py>=3.10.0 in /usr/local/lib/python3.10/dist-packages (from tensorflow) (3.12.1)\n",
            "Requirement already satisfied: libclang>=13.0.0 in /usr/local/lib/python3.10/dist-packages (from tensorflow) (18.1.1)\n",
            "Requirement already satisfied: ml-dtypes<0.5.0,>=0.3.1 in /usr/local/lib/python3.10/dist-packages (from tensorflow) (0.4.1)\n",
            "Requirement already satisfied: opt-einsum>=2.3.2 in /usr/local/lib/python3.10/dist-packages (from tensorflow) (3.4.0)\n",
            "Requirement already satisfied: packaging in /usr/local/lib/python3.10/dist-packages (from tensorflow) (24.1)\n",
            "Requirement already satisfied: protobuf!=4.21.0,!=4.21.1,!=4.21.2,!=4.21.3,!=4.21.4,!=4.21.5,<5.0.0dev,>=3.20.3 in /usr/local/lib/python3.10/dist-packages (from tensorflow) (3.20.3)\n",
            "Requirement already satisfied: requests<3,>=2.21.0 in /usr/local/lib/python3.10/dist-packages (from tensorflow) (2.32.3)\n",
            "Requirement already satisfied: setuptools in /usr/local/lib/python3.10/dist-packages (from tensorflow) (75.1.0)\n",
            "Requirement already satisfied: six>=1.12.0 in /usr/local/lib/python3.10/dist-packages (from tensorflow) (1.16.0)\n",
            "Requirement already satisfied: termcolor>=1.1.0 in /usr/local/lib/python3.10/dist-packages (from tensorflow) (2.5.0)\n",
            "Requirement already satisfied: typing-extensions>=3.6.6 in /usr/local/lib/python3.10/dist-packages (from tensorflow) (4.12.2)\n",
            "Requirement already satisfied: wrapt>=1.11.0 in /usr/local/lib/python3.10/dist-packages (from tensorflow) (1.16.0)\n",
            "Requirement already satisfied: grpcio<2.0,>=1.24.3 in /usr/local/lib/python3.10/dist-packages (from tensorflow) (1.64.1)\n",
            "Requirement already satisfied: tensorboard<2.18,>=2.17 in /usr/local/lib/python3.10/dist-packages (from tensorflow) (2.17.0)\n",
            "Requirement already satisfied: tensorflow-io-gcs-filesystem>=0.23.1 in /usr/local/lib/python3.10/dist-packages (from tensorflow) (0.37.1)\n",
            "Requirement already satisfied: rich in /usr/local/lib/python3.10/dist-packages (from keras) (13.9.3)\n",
            "Requirement already satisfied: namex in /usr/local/lib/python3.10/dist-packages (from keras) (0.0.8)\n",
            "Requirement already satisfied: optree in /usr/local/lib/python3.10/dist-packages (from keras) (0.13.0)\n",
            "Requirement already satisfied: wheel<1.0,>=0.23.0 in /usr/local/lib/python3.10/dist-packages (from astunparse>=1.6.0->tensorflow) (0.44.0)\n",
            "Requirement already satisfied: charset-normalizer<4,>=2 in /usr/local/lib/python3.10/dist-packages (from requests<3,>=2.21.0->tensorflow) (3.4.0)\n",
            "Requirement already satisfied: idna<4,>=2.5 in /usr/local/lib/python3.10/dist-packages (from requests<3,>=2.21.0->tensorflow) (3.10)\n",
            "Requirement already satisfied: urllib3<3,>=1.21.1 in /usr/local/lib/python3.10/dist-packages (from requests<3,>=2.21.0->tensorflow) (2.2.3)\n",
            "Requirement already satisfied: certifi>=2017.4.17 in /usr/local/lib/python3.10/dist-packages (from requests<3,>=2.21.0->tensorflow) (2024.8.30)\n",
            "Requirement already satisfied: markdown>=2.6.8 in /usr/local/lib/python3.10/dist-packages (from tensorboard<2.18,>=2.17->tensorflow) (3.7)\n",
            "Requirement already satisfied: tensorboard-data-server<0.8.0,>=0.7.0 in /usr/local/lib/python3.10/dist-packages (from tensorboard<2.18,>=2.17->tensorflow) (0.7.2)\n",
            "Requirement already satisfied: werkzeug>=1.0.1 in /usr/local/lib/python3.10/dist-packages (from tensorboard<2.18,>=2.17->tensorflow) (3.0.6)\n",
            "Requirement already satisfied: markdown-it-py>=2.2.0 in /usr/local/lib/python3.10/dist-packages (from rich->keras) (3.0.0)\n",
            "Requirement already satisfied: pygments<3.0.0,>=2.13.0 in /usr/local/lib/python3.10/dist-packages (from rich->keras) (2.18.0)\n",
            "Requirement already satisfied: mdurl~=0.1 in /usr/local/lib/python3.10/dist-packages (from markdown-it-py>=2.2.0->rich->keras) (0.1.2)\n",
            "Requirement already satisfied: MarkupSafe>=2.1.1 in /usr/local/lib/python3.10/dist-packages (from werkzeug>=1.0.1->tensorboard<2.18,>=2.17->tensorflow) (3.0.2)\n"
          ]
        }
      ],
      "source": [
        "!pip install pandas numpy scikit-learn tensorflow keras"
      ]
    },
    {
      "cell_type": "code",
      "source": [
        "#from google.colab import\n",
        "#import os\n",
        "#if not os.path.exists('.csv'):\n",
        " # uploaded = files.upload()\n",
        "from google.colab import drive\n",
        "drive.mount('/content/drive')\n"
      ],
      "metadata": {
        "colab": {
          "base_uri": "https://localhost:8080/"
        },
        "id": "BqVvzkHvu1iA",
        "outputId": "c783447d-9f3c-4531-9bea-cf5786989d70"
      },
      "execution_count": 1,
      "outputs": [
        {
          "output_type": "stream",
          "name": "stdout",
          "text": [
            "Mounted at /content/drive\n"
          ]
        }
      ]
    },
    {
      "cell_type": "markdown",
      "source": [],
      "metadata": {
        "id": "jnn0bqhb_KaM"
      }
    },
    {
      "cell_type": "code",
      "source": [
        "import pandas as pd\n",
        "data1 = pd.read_csv(\"/content/drive/MyDrive/Colab Notebooks/NIDS_dataset/Friday-WorkingHours-Afternoon-DDos.pcap_ISCX.csv\")\n",
        "data2 = pd.read_csv(\"/content/drive/MyDrive/Colab Notebooks/NIDS_dataset/Friday-WorkingHours-Afternoon-PortScan.pcap_ISCX.csv\")\n",
        "data3 = pd.read_csv(\"/content/drive/MyDrive/Colab Notebooks/NIDS_dataset/Friday-WorkingHours-Morning.pcap_ISCX.csv\")\n",
        "data4 = pd.read_csv(\"/content/drive/MyDrive/Colab Notebooks/NIDS_dataset/Monday-WorkingHours.pcap_ISCX.csv\")\n",
        "data5 = pd.read_csv(\"/content/drive/MyDrive/Colab Notebooks/NIDS_dataset/Thursday-WorkingHours-Afternoon-Infilteration.pcap_ISCX.csv\", engine='python')\n",
        "data6 = pd.read_csv(\"/content/drive/MyDrive/Colab Notebooks/NIDS_dataset/Thursday-WorkingHours-Morning-WebAttacks.pcap_ISCX.csv\")\n",
        "data7 = pd.read_csv(\"/content/drive/MyDrive/Colab Notebooks/NIDS_dataset/Tuesday-WorkingHours.pcap_ISCX.csv\")\n",
        "data8 = pd.read_csv(\"/content/drive/MyDrive/Colab Notebooks/NIDS_dataset/Wednesday-workingHours.pcap_ISCX.csv\")\n",
        "\n",
        "df = pd.concat([data1, data2, data3, data4, data5, data6, data7, data8], axis=0)\n"
      ],
      "metadata": {
        "id": "z-j5K3KMiKqJ"
      },
      "execution_count": 3,
      "outputs": []
    },
    {
      "cell_type": "code",
      "source": [
        "print(df.columns)\n",
        "print(df)"
      ],
      "metadata": {
        "id": "LfV1aKfiItt6",
        "outputId": "d392eaa1-e76f-4644-f1a9-898f001210ee",
        "colab": {
          "base_uri": "https://localhost:8080/"
        }
      },
      "execution_count": 9,
      "outputs": [
        {
          "output_type": "stream",
          "name": "stdout",
          "text": [
            "Index([' Destination Port', ' Flow Duration', ' Total Fwd Packets',\n",
            "       ' Total Backward Packets', 'Total Length of Fwd Packets',\n",
            "       ' Total Length of Bwd Packets', ' Fwd Packet Length Max',\n",
            "       ' Fwd Packet Length Min', ' Fwd Packet Length Mean',\n",
            "       ' Fwd Packet Length Std', 'Bwd Packet Length Max',\n",
            "       ' Bwd Packet Length Min', ' Bwd Packet Length Mean',\n",
            "       ' Bwd Packet Length Std', 'Flow Bytes/s', ' Flow Packets/s',\n",
            "       ' Flow IAT Mean', ' Flow IAT Std', ' Flow IAT Max', ' Flow IAT Min',\n",
            "       'Fwd IAT Total', ' Fwd IAT Mean', ' Fwd IAT Std', ' Fwd IAT Max',\n",
            "       ' Fwd IAT Min', 'Bwd IAT Total', ' Bwd IAT Mean', ' Bwd IAT Std',\n",
            "       ' Bwd IAT Max', ' Bwd IAT Min', 'Fwd PSH Flags', ' Bwd PSH Flags',\n",
            "       ' Fwd URG Flags', ' Bwd URG Flags', ' Fwd Header Length',\n",
            "       ' Bwd Header Length', 'Fwd Packets/s', ' Bwd Packets/s',\n",
            "       ' Min Packet Length', ' Max Packet Length', ' Packet Length Mean',\n",
            "       ' Packet Length Std', ' Packet Length Variance', 'FIN Flag Count',\n",
            "       ' SYN Flag Count', ' RST Flag Count', ' PSH Flag Count',\n",
            "       ' ACK Flag Count', ' URG Flag Count', ' CWE Flag Count',\n",
            "       ' ECE Flag Count', ' Down/Up Ratio', ' Average Packet Size',\n",
            "       ' Avg Fwd Segment Size', ' Avg Bwd Segment Size',\n",
            "       ' Fwd Header Length.1', 'Fwd Avg Bytes/Bulk', ' Fwd Avg Packets/Bulk',\n",
            "       ' Fwd Avg Bulk Rate', ' Bwd Avg Bytes/Bulk', ' Bwd Avg Packets/Bulk',\n",
            "       'Bwd Avg Bulk Rate', 'Subflow Fwd Packets', ' Subflow Fwd Bytes',\n",
            "       ' Subflow Bwd Packets', ' Subflow Bwd Bytes', 'Init_Win_bytes_forward',\n",
            "       ' Init_Win_bytes_backward', ' act_data_pkt_fwd',\n",
            "       ' min_seg_size_forward', 'Active Mean', ' Active Std', ' Active Max',\n",
            "       ' Active Min', 'Idle Mean', ' Idle Std', ' Idle Max', ' Idle Min',\n",
            "       ' Label'],\n",
            "      dtype='object')\n",
            "         Destination Port   Flow Duration   Total Fwd Packets  \\\n",
            "0                   54865               3                   2   \n",
            "1                   55054             109                   1   \n",
            "2                   55055              52                   1   \n",
            "3                   46236              34                   1   \n",
            "4                   54863               3                   2   \n",
            "...                   ...             ...                 ...   \n",
            "692698                 53           32215                   4   \n",
            "692699                 53             324                   2   \n",
            "692700              58030              82                   2   \n",
            "692701                 53         1048635                   6   \n",
            "692702                 53           94939                   4   \n",
            "\n",
            "         Total Backward Packets  Total Length of Fwd Packets  \\\n",
            "0                             0                           12   \n",
            "1                             1                            6   \n",
            "2                             1                            6   \n",
            "3                             1                            6   \n",
            "4                             0                           12   \n",
            "...                         ...                          ...   \n",
            "692698                        2                          112   \n",
            "692699                        2                           84   \n",
            "692700                        1                           31   \n",
            "692701                        2                          192   \n",
            "692702                        2                          188   \n",
            "\n",
            "         Total Length of Bwd Packets   Fwd Packet Length Max  \\\n",
            "0                                  0                       6   \n",
            "1                                  6                       6   \n",
            "2                                  6                       6   \n",
            "3                                  6                       6   \n",
            "4                                  0                       6   \n",
            "...                              ...                     ...   \n",
            "692698                           152                      28   \n",
            "692699                           362                      42   \n",
            "692700                             6                      31   \n",
            "692701                           256                      32   \n",
            "692702                           226                      47   \n",
            "\n",
            "         Fwd Packet Length Min   Fwd Packet Length Mean  \\\n",
            "0                            6                      6.0   \n",
            "1                            6                      6.0   \n",
            "2                            6                      6.0   \n",
            "3                            6                      6.0   \n",
            "4                            6                      6.0   \n",
            "...                        ...                      ...   \n",
            "692698                      28                     28.0   \n",
            "692699                      42                     42.0   \n",
            "692700                       0                     15.5   \n",
            "692701                      32                     32.0   \n",
            "692702                      47                     47.0   \n",
            "\n",
            "         Fwd Packet Length Std  ...   min_seg_size_forward  Active Mean  \\\n",
            "0                      0.00000  ...                     20          0.0   \n",
            "1                      0.00000  ...                     20          0.0   \n",
            "2                      0.00000  ...                     20          0.0   \n",
            "3                      0.00000  ...                     20          0.0   \n",
            "4                      0.00000  ...                     20          0.0   \n",
            "...                        ...  ...                    ...          ...   \n",
            "692698                 0.00000  ...                     20          0.0   \n",
            "692699                 0.00000  ...                     20          0.0   \n",
            "692700                21.92031  ...                     32          0.0   \n",
            "692701                 0.00000  ...                     20          0.0   \n",
            "692702                 0.00000  ...                     20          0.0   \n",
            "\n",
            "         Active Std   Active Max   Active Min  Idle Mean   Idle Std  \\\n",
            "0               0.0            0            0        0.0        0.0   \n",
            "1               0.0            0            0        0.0        0.0   \n",
            "2               0.0            0            0        0.0        0.0   \n",
            "3               0.0            0            0        0.0        0.0   \n",
            "4               0.0            0            0        0.0        0.0   \n",
            "...             ...          ...          ...        ...        ...   \n",
            "692698          0.0            0            0        0.0        0.0   \n",
            "692699          0.0            0            0        0.0        0.0   \n",
            "692700          0.0            0            0        0.0        0.0   \n",
            "692701          0.0            0            0        0.0        0.0   \n",
            "692702          0.0            0            0        0.0        0.0   \n",
            "\n",
            "         Idle Max   Idle Min   Label  \n",
            "0               0          0  BENIGN  \n",
            "1               0          0  BENIGN  \n",
            "2               0          0  BENIGN  \n",
            "3               0          0  BENIGN  \n",
            "4               0          0  BENIGN  \n",
            "...           ...        ...     ...  \n",
            "692698          0          0  BENIGN  \n",
            "692699          0          0  BENIGN  \n",
            "692700          0          0  BENIGN  \n",
            "692701          0          0  BENIGN  \n",
            "692702          0          0  BENIGN  \n",
            "\n",
            "[2830743 rows x 79 columns]\n"
          ]
        }
      ]
    },
    {
      "cell_type": "code",
      "source": [
        "df.isnull().sum()"
      ],
      "metadata": {
        "id": "90VZzgNvKJvh",
        "outputId": "d9552c38-9cb6-4136-c83c-20ff6e0e1cd3",
        "colab": {
          "base_uri": "https://localhost:8080/",
          "height": 458
        }
      },
      "execution_count": 14,
      "outputs": [
        {
          "output_type": "execute_result",
          "data": {
            "text/plain": [
              " Destination Port              0\n",
              " Flow Duration                 0\n",
              " Total Fwd Packets             0\n",
              " Total Backward Packets        0\n",
              "Total Length of Fwd Packets    0\n",
              "                              ..\n",
              "Idle Mean                      0\n",
              " Idle Std                      0\n",
              " Idle Max                      0\n",
              " Idle Min                      0\n",
              " Label                         0\n",
              "Length: 79, dtype: int64"
            ],
            "text/html": [
              "<div>\n",
              "<style scoped>\n",
              "    .dataframe tbody tr th:only-of-type {\n",
              "        vertical-align: middle;\n",
              "    }\n",
              "\n",
              "    .dataframe tbody tr th {\n",
              "        vertical-align: top;\n",
              "    }\n",
              "\n",
              "    .dataframe thead th {\n",
              "        text-align: right;\n",
              "    }\n",
              "</style>\n",
              "<table border=\"1\" class=\"dataframe\">\n",
              "  <thead>\n",
              "    <tr style=\"text-align: right;\">\n",
              "      <th></th>\n",
              "      <th>0</th>\n",
              "    </tr>\n",
              "  </thead>\n",
              "  <tbody>\n",
              "    <tr>\n",
              "      <th>Destination Port</th>\n",
              "      <td>0</td>\n",
              "    </tr>\n",
              "    <tr>\n",
              "      <th>Flow Duration</th>\n",
              "      <td>0</td>\n",
              "    </tr>\n",
              "    <tr>\n",
              "      <th>Total Fwd Packets</th>\n",
              "      <td>0</td>\n",
              "    </tr>\n",
              "    <tr>\n",
              "      <th>Total Backward Packets</th>\n",
              "      <td>0</td>\n",
              "    </tr>\n",
              "    <tr>\n",
              "      <th>Total Length of Fwd Packets</th>\n",
              "      <td>0</td>\n",
              "    </tr>\n",
              "    <tr>\n",
              "      <th>...</th>\n",
              "      <td>...</td>\n",
              "    </tr>\n",
              "    <tr>\n",
              "      <th>Idle Mean</th>\n",
              "      <td>0</td>\n",
              "    </tr>\n",
              "    <tr>\n",
              "      <th>Idle Std</th>\n",
              "      <td>0</td>\n",
              "    </tr>\n",
              "    <tr>\n",
              "      <th>Idle Max</th>\n",
              "      <td>0</td>\n",
              "    </tr>\n",
              "    <tr>\n",
              "      <th>Idle Min</th>\n",
              "      <td>0</td>\n",
              "    </tr>\n",
              "    <tr>\n",
              "      <th>Label</th>\n",
              "      <td>0</td>\n",
              "    </tr>\n",
              "  </tbody>\n",
              "</table>\n",
              "<p>79 rows × 1 columns</p>\n",
              "</div><br><label><b>dtype:</b> int64</label>"
            ]
          },
          "metadata": {},
          "execution_count": 14
        }
      ]
    }
  ]
}